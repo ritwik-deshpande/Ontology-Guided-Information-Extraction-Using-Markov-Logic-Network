{
 "cells": [
  {
   "cell_type": "code",
   "execution_count": 6,
   "metadata": {},
   "outputs": [],
   "source": [
    "import os\n",
    "import csv\n",
    "import pandas as pd\n",
    "\n",
    "with open('train_final.db', 'w', newline='') as f:\n",
    "    data = pd.read_csv(\"base_classifier.csv\") \n",
    "    for i in range(0,len(data['Word'])):\n",
    "        string = \"Etype(\"\n",
    "        if data['Predicted'][i] != \"O\" and data['Predicted'][i][2:] != \"Other\":\n",
    "            string = string + str(data['SentenceID'][i]) + \",\" + str(data['tokenID'][i]) + \",\" + data['Predicted'][i][2:] + \")\"\n",
    "            print(string,file=f)\n",
    "        string = \"EFtype(\"\n",
    "        if data['Gold Truth'][i] != \"O\" and data['Gold Truth'][i][2:] != \"Other\":\n",
    "            string = string + str(data['SentenceID'][i]) + \",\" + str(data['tokenID'][i]) + \",\" + data['Gold Truth'][i][2:] + \")\"\n",
    "            print(string,file=f)\n",
    "    data = pd.read_csv(\"relation_classifier.csv\") \n",
    "    for i in range(0,len(data['SentenceID'])):\n",
    "        string = \"Rtype(\"    \n",
    "        string = string + str(data['SentenceID'][i]) + \",\" + str(data['token1'][i]) + \",\" +str(data['token2'][i]) + \",\" + data['Predicted'][i] + \")\"\n",
    "        print(string,file=f)\n",
    "        string = \"RFtype(\"    \n",
    "        string = string + str(data['SentenceID'][i]) + \",\" + str(data['token1'][i]) +\",\" +str(data['token2'][i])+ \",\" + data['Gold Truth'][i] + \")\"\n",
    "        print(string,file=f)"
   ]
  },
  {
   "cell_type": "code",
   "execution_count": null,
   "metadata": {},
   "outputs": [],
   "source": []
  },
  {
   "cell_type": "code",
   "execution_count": null,
   "metadata": {},
   "outputs": [],
   "source": []
  }
 ],
 "metadata": {
  "kernelspec": {
   "display_name": "Python 3",
   "language": "python",
   "name": "python3"
  },
  "language_info": {
   "codemirror_mode": {
    "name": "ipython",
    "version": 3
   },
   "file_extension": ".py",
   "mimetype": "text/x-python",
   "name": "python",
   "nbconvert_exporter": "python",
   "pygments_lexer": "ipython3",
   "version": "3.7.4"
  }
 },
 "nbformat": 4,
 "nbformat_minor": 2
}
